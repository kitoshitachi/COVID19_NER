{
 "cells": [
  {
   "cell_type": "code",
   "execution_count": 41,
   "metadata": {},
   "outputs": [],
   "source": [
    "gold_preds_1 = '24 - 7::entity\\n24 - 8::entity'"
   ]
  },
  {
   "cell_type": "code",
   "execution_count": 42,
   "metadata": {},
   "outputs": [],
   "source": [
    "sample = \"24 - 7 và 24 - 8\"\n",
    "tokens = sample.split()"
   ]
  },
  {
   "cell_type": "code",
   "execution_count": 43,
   "metadata": {},
   "outputs": [],
   "source": [
    "gold_preds = ['24','-','7', '24','-','8']\n",
    "\n",
    "start_pos = []\n",
    "_pos = 0\n",
    "for gold in sample.split():\n",
    "    start = sample.find(gold, _pos)\n",
    "    start_pos.append(start)\n",
    "    _pos += len(gold)"
   ]
  },
  {
   "cell_type": "code",
   "execution_count": 44,
   "metadata": {},
   "outputs": [
    {
     "data": {
      "text/plain": [
       "[0, 3, 5, 7, 10, 13, 15]"
      ]
     },
     "execution_count": 44,
     "metadata": {},
     "output_type": "execute_result"
    }
   ],
   "source": [
    "start_pos"
   ]
  },
  {
   "cell_type": "code",
   "execution_count": 48,
   "metadata": {},
   "outputs": [
    {
     "name": "stdout",
     "output_type": "stream",
     "text": [
      "True\n",
      "True\n"
     ]
    }
   ],
   "source": [
    "_pos = 0\n",
    "for gold in gold_preds_1.split('\\n'):\n",
    "    word, entity = gold.split('::')\n",
    "    start_entity = sample.find(word)\n",
    "    if start_entity != -1:\n",
    "        start_span = start_pos.index(start_entity)\n",
    "        span_entity = (start_span, start_span + len(word.split()))\n",
    "        print(word.split() == sample.split()[span_entity[0]:span_entity[1]])\n",
    "    # for token in tokens:\n",
    "        "
   ]
  },
  {
   "cell_type": "code",
   "execution_count": null,
   "metadata": {},
   "outputs": [
    {
     "data": {
      "text/plain": [
       "[0, 1, 2, 0, 1, 6]"
      ]
     },
     "execution_count": 21,
     "metadata": {},
     "output_type": "execute_result"
    }
   ],
   "source": [
    "positions = []\n",
    "\n",
    "for gold in gold_preds:\n",
    "    positions.append(tokens.index(gold))\n",
    "    \n",
    "positions"
   ]
  }
 ],
 "metadata": {
  "kernelspec": {
   "display_name": "base",
   "language": "python",
   "name": "python3"
  },
  "language_info": {
   "codemirror_mode": {
    "name": "ipython",
    "version": 3
   },
   "file_extension": ".py",
   "mimetype": "text/x-python",
   "name": "python",
   "nbconvert_exporter": "python",
   "pygments_lexer": "ipython3",
   "version": "3.9.12"
  }
 },
 "nbformat": 4,
 "nbformat_minor": 2
}
